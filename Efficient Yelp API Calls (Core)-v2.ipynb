{
 "cells": [
  {
   "cell_type": "code",
   "execution_count": 22,
   "id": "4a20e023",
   "metadata": {},
   "outputs": [],
   "source": [
    "# Standard Imports\n",
    "import numpy as np\n",
    "import pandas as pd\n",
    "import matplotlib.pyplot as plt\n",
    "import seaborn as sns\n",
    "\n",
    "# Additional Imports\n",
    "import os, json, math, time\n",
    "from yelpapi import YelpAPI\n",
    "from tqdm.notebook import tqdm_notebook\n",
    "\n"
   ]
  },
  {
   "cell_type": "markdown",
   "id": "4f1db0ad",
   "metadata": {},
   "source": [
    "## Credentials and Accessing the API"
   ]
  },
  {
   "cell_type": "code",
   "execution_count": 23,
   "id": "5b73b40e",
   "metadata": {},
   "outputs": [],
   "source": [
    "# Load API Credentials\n",
    "with open('/Users/Jeancarlo Garcia/Documents/Data Enrichment/Wk14-Local-Workflow-practice/yelp_api.json') as f:   #use your path here!\n",
    "    login = json.load(f)\n",
    "# Instantiate YelpAPI Variable\n",
    "yelp_api = YelpAPI(login['api-key'], timeout_s=5.0)"
   ]
  },
  {
   "cell_type": "markdown",
   "id": "e947d797",
   "metadata": {},
   "source": [
    "## Define Search"
   ]
  },
  {
   "cell_type": "code",
   "execution_count": 40,
   "id": "3c9ac8f2",
   "metadata": {},
   "outputs": [],
   "source": [
    "# set our API call parameters and filename before the first call\n",
    "LOCATION = 'Yonkers, NY,10701'\n",
    "TERM = 'Shrimp'"
   ]
  },
  {
   "cell_type": "code",
   "execution_count": 42,
   "id": "fc5ffff4",
   "metadata": {},
   "outputs": [
    {
     "data": {
      "text/plain": [
       "'Core Assignments/results_in_progress_shrimp.json'"
      ]
     },
     "execution_count": 42,
     "metadata": {},
     "output_type": "execute_result"
    }
   ],
   "source": [
    "# Specifying JSON_FILE filename (can include a folder)\n",
    "# include the search terms in the filename\n",
    "JSON_FILE = f\"Core Assignments/results_in_progress_shrimp.json\"\n",
    "JSON_FILE"
   ]
  },
  {
   "cell_type": "markdown",
   "id": "10cbab15",
   "metadata": {},
   "source": [
    "## Check if our JSON_FILE already exists"
   ]
  },
  {
   "cell_type": "markdown",
   "id": "038e94d6",
   "metadata": {},
   "source": [
    "This will prevent us from accidently overwriting an existing file.\n",
    "\n",
    "If it doesn't exist:\n",
    "\n",
    "Create any folders needed for the file path.\n",
    "Save an empty list as JSON_File"
   ]
  },
  {
   "cell_type": "code",
   "execution_count": 43,
   "id": "182a8139",
   "metadata": {},
   "outputs": [
    {
     "name": "stdout",
     "output_type": "stream",
     "text": [
      "[i] Core Assignments/results_in_progress_shrimp.json not found. Saving empty list to file.\n"
     ]
    }
   ],
   "source": [
    "## Check if JSON_FILE exists\n",
    "file_exists = os.path.isfile(JSON_FILE)\n",
    "## If it does not exist: \n",
    "if file_exists == False:\n",
    "    \n",
    "    ## CREATE ANY NEEDED FOLDERS\n",
    "    # Get the Folder Name only\n",
    "    folder = os.path.dirname(JSON_FILE)\n",
    "    ## If JSON_FILE included a folder:\n",
    "    if len(folder)>0:\n",
    "        # create the folder\n",
    "        os.makedirs(folder,exist_ok=True)\n",
    "        \n",
    "        \n",
    "    ## INFORM USER AND SAVE EMPTY LIST\n",
    "    print(f\"[i] {JSON_FILE} not found. Saving empty list to file.\")\n",
    "    \n",
    "    \n",
    "    ## save the first page of results\n",
    "    with open(JSON_FILE,'w') as f:\n",
    "        json.dump([],f)  \n",
    "## If it exists, inform user\n",
    "else:\n",
    "    print(f\"[i] {JSON_FILE} already exists.\")"
   ]
  },
  {
   "cell_type": "markdown",
   "id": "9dace270",
   "metadata": {},
   "source": [
    "## Determine how many results are already in the file"
   ]
  },
  {
   "cell_type": "markdown",
   "id": "d236f640",
   "metadata": {},
   "source": [
    "Load the results file to determine the # of results previously retrieved. Since the file is recently created, you would expect it to be empty.  \n",
    "\n",
    "Use this as our offset parameter for our API call.  Even if this is the first API call, and the number is 0, we want to define \"n_results\" based on the length of \"previous_results.\" "
   ]
  },
  {
   "cell_type": "code",
   "execution_count": 44,
   "id": "75d1d797",
   "metadata": {},
   "outputs": [
    {
     "name": "stdout",
     "output_type": "stream",
     "text": [
      "- 0 previous results found.\n"
     ]
    }
   ],
   "source": [
    "## Load previous results and use len of results for offset\n",
    "with open(JSON_FILE,'r') as f:\n",
    "    previous_results = json.load(f)\n",
    "    \n",
    "## set offset based on previous results\n",
    "n_results = len(previous_results)\n",
    "print(f'- {n_results} previous results found.')"
   ]
  },
  {
   "cell_type": "code",
   "execution_count": 45,
   "id": "5b7bfe8f",
   "metadata": {},
   "outputs": [
    {
     "data": {
      "text/plain": [
       "dict_keys(['businesses', 'total', 'region'])"
      ]
     },
     "execution_count": 45,
     "metadata": {},
     "output_type": "execute_result"
    }
   ],
   "source": [
    "# use our yelp_api variable's search_query method to perform our API call\n",
    "results = yelp_api.search_query(location=LOCATION,\n",
    "                                term=TERM,\n",
    "                               offset=n_results)\n",
    "results.keys()"
   ]
  },
  {
   "cell_type": "code",
   "execution_count": 46,
   "id": "651c1865",
   "metadata": {},
   "outputs": [
    {
     "data": {
      "text/plain": [
       "977"
      ]
     },
     "execution_count": 46,
     "metadata": {},
     "output_type": "execute_result"
    }
   ],
   "source": [
    "## How many results total?\n",
    "total_results = results['total']\n",
    "total_results"
   ]
  },
  {
   "cell_type": "code",
   "execution_count": 47,
   "id": "766828f8",
   "metadata": {},
   "outputs": [
    {
     "data": {
      "text/plain": [
       "20"
      ]
     },
     "execution_count": 47,
     "metadata": {},
     "output_type": "execute_result"
    }
   ],
   "source": [
    "## How many did we get the details for?\n",
    "results_per_page = len(results['businesses'])\n",
    "results_per_page"
   ]
  },
  {
   "cell_type": "markdown",
   "id": "6dcf23b1",
   "metadata": {},
   "source": [
    "977 results and 20 results per page.  \n",
    "\n",
    "977 /20 = 48.85"
   ]
  },
  {
   "cell_type": "code",
   "execution_count": 48,
   "id": "e96b1ec7",
   "metadata": {},
   "outputs": [
    {
     "data": {
      "text/plain": [
       "49"
      ]
     },
     "execution_count": 48,
     "metadata": {},
     "output_type": "execute_result"
    }
   ],
   "source": [
    "# Import additional packages for controlling our loop\n",
    "import time, math\n",
    "# Use math.ceil to round up for the total number of pages of results.\n",
    "n_pages = math.ceil((results['total']-n_results)/ results_per_page)\n",
    "n_pages"
   ]
  },
  {
   "cell_type": "markdown",
   "id": "b947fa1a",
   "metadata": {},
   "source": [
    "## Add this page of results to .json file"
   ]
  },
  {
   "cell_type": "markdown",
   "id": "9afe5f45",
   "metadata": {},
   "source": [
    "Our API returns our results in JSON format, with the businesses in a list of dictionaries. We will append the first page of businesses to our previous_results"
   ]
  },
  {
   "cell_type": "code",
   "execution_count": 49,
   "id": "1928bbc4",
   "metadata": {},
   "outputs": [],
   "source": [
    "# join new results with old list with extend and save to file\n",
    "previous_results.extend(results['businesses'])  \n",
    "with open(JSON_FILE,'w') as f:\n",
    "     json.dump(previous_results,f)"
   ]
  },
  {
   "cell_type": "code",
   "execution_count": 50,
   "id": "fdd98744",
   "metadata": {},
   "outputs": [
    {
     "data": {
      "application/vnd.jupyter.widget-view+json": {
       "model_id": "e76044ccb9ef4c5db8f9043ce7027f44",
       "version_major": 2,
       "version_minor": 0
      },
      "text/plain": [
       "  0%|          | 0/49 [00:00<?, ?it/s]"
      ]
     },
     "metadata": {},
     "output_type": "display_data"
    }
   ],
   "source": [
    "from tqdm.notebook import tqdm_notebook\n",
    "import time\n",
    "for i in tqdm_notebook(range(n_pages)):\n",
    "    # adds 200 ms pause\n",
    "    time.sleep(.2) "
   ]
  },
  {
   "cell_type": "markdown",
   "id": "35cd7326",
   "metadata": {},
   "source": [
    "## For Loop to call each page"
   ]
  },
  {
   "cell_type": "code",
   "execution_count": 51,
   "id": "764da10f",
   "metadata": {},
   "outputs": [
    {
     "data": {
      "application/vnd.jupyter.widget-view+json": {
       "model_id": "911a4424cb3947b88b28e0f5719a5497",
       "version_major": 2,
       "version_minor": 0
      },
      "text/plain": [
       "  0%|          | 0/49 [00:00<?, ?it/s]"
      ]
     },
     "metadata": {},
     "output_type": "display_data"
    }
   ],
   "source": [
    "for i in tqdm_notebook( range(1,n_pages+1)):\n",
    "    time.sleep(.2)\n",
    "    ## Read in results in progress file and check the length\n",
    "    with open(JSON_FILE, 'r') as f:\n",
    "        previous_results = json.load(f)\n",
    "    ## save number of results for to use as offset\n",
    "    n_results = len(previous_results)\n",
    "    ## use n_results as the OFFSET \n",
    "    results = yelp_api.search_query(location=LOCATION,\n",
    "                                    term=TERM, \n",
    "                                    offset=n_results)\n",
    "    \n",
    "    ## append new results and save to file\n",
    "    previous_results.extend(results['businesses'])\n",
    "    \n",
    "#     display(previous_results)\n",
    "    with open(JSON_FILE,'w') as f:\n",
    "        json.dump(previous_results,f)"
   ]
  },
  {
   "cell_type": "markdown",
   "id": "0849c7c7",
   "metadata": {},
   "source": [
    "## Convert .json to dataframe"
   ]
  },
  {
   "cell_type": "markdown",
   "id": "4ec019ed",
   "metadata": {},
   "source": [
    "Load in the \"results in progress\" JSON file into a DataFrame:"
   ]
  },
  {
   "cell_type": "code",
   "execution_count": 52,
   "id": "cf79547e",
   "metadata": {},
   "outputs": [
    {
     "data": {
      "text/html": [
       "<div>\n",
       "<style scoped>\n",
       "    .dataframe tbody tr th:only-of-type {\n",
       "        vertical-align: middle;\n",
       "    }\n",
       "\n",
       "    .dataframe tbody tr th {\n",
       "        vertical-align: top;\n",
       "    }\n",
       "\n",
       "    .dataframe thead th {\n",
       "        text-align: right;\n",
       "    }\n",
       "</style>\n",
       "<table border=\"1\" class=\"dataframe\">\n",
       "  <thead>\n",
       "    <tr style=\"text-align: right;\">\n",
       "      <th></th>\n",
       "      <th>id</th>\n",
       "      <th>alias</th>\n",
       "      <th>name</th>\n",
       "      <th>image_url</th>\n",
       "      <th>is_closed</th>\n",
       "      <th>url</th>\n",
       "      <th>review_count</th>\n",
       "      <th>categories</th>\n",
       "      <th>rating</th>\n",
       "      <th>coordinates</th>\n",
       "      <th>transactions</th>\n",
       "      <th>price</th>\n",
       "      <th>location</th>\n",
       "      <th>phone</th>\n",
       "      <th>display_phone</th>\n",
       "      <th>distance</th>\n",
       "    </tr>\n",
       "  </thead>\n",
       "  <tbody>\n",
       "    <tr>\n",
       "      <th>0</th>\n",
       "      <td>oC-BU83Ag-vlVBcjlwxUZw</td>\n",
       "      <td>pepes-place-new-rochelle</td>\n",
       "      <td>Pepe's Place</td>\n",
       "      <td>https://s3-media2.fl.yelpcdn.com/bphoto/eCZjwI...</td>\n",
       "      <td>False</td>\n",
       "      <td>https://www.yelp.com/biz/pepes-place-new-roche...</td>\n",
       "      <td>412</td>\n",
       "      <td>[{'alias': 'seafood', 'title': 'Seafood'}, {'a...</td>\n",
       "      <td>4.5</td>\n",
       "      <td>{'latitude': 40.9209170900794, 'longitude': -7...</td>\n",
       "      <td>[delivery, pickup]</td>\n",
       "      <td>$$</td>\n",
       "      <td>{'address1': '560 North Ave', 'address2': '', ...</td>\n",
       "      <td>+19146327373</td>\n",
       "      <td>(914) 632-7373</td>\n",
       "      <td>8348.369289</td>\n",
       "    </tr>\n",
       "    <tr>\n",
       "      <th>1</th>\n",
       "      <td>P0KtNoGAK3G_s43V2qzQfA</td>\n",
       "      <td>off-the-hook-of-yonkers-yonkers</td>\n",
       "      <td>Off The Hook Of Yonkers</td>\n",
       "      <td>https://s3-media3.fl.yelpcdn.com/bphoto/euJ8cB...</td>\n",
       "      <td>False</td>\n",
       "      <td>https://www.yelp.com/biz/off-the-hook-of-yonke...</td>\n",
       "      <td>5</td>\n",
       "      <td>[{'alias': 'seafood', 'title': 'Seafood'}, {'a...</td>\n",
       "      <td>4.5</td>\n",
       "      <td>{'latitude': 40.93576, 'longitude': -73.89841}</td>\n",
       "      <td>[delivery, pickup]</td>\n",
       "      <td>NaN</td>\n",
       "      <td>{'address1': '47 North Broadway', 'address2': ...</td>\n",
       "      <td>+19144573371</td>\n",
       "      <td>(914) 457-3371</td>\n",
       "      <td>2238.342639</td>\n",
       "    </tr>\n",
       "    <tr>\n",
       "      <th>2</th>\n",
       "      <td>NZzsPPU0FpkFz9hDmq9ZkQ</td>\n",
       "      <td>lusitania-seafood-restaurant-yonkers</td>\n",
       "      <td>Lusitania Seafood Restaurant</td>\n",
       "      <td>https://s3-media3.fl.yelpcdn.com/bphoto/A1-kxI...</td>\n",
       "      <td>False</td>\n",
       "      <td>https://www.yelp.com/biz/lusitania-seafood-res...</td>\n",
       "      <td>38</td>\n",
       "      <td>[{'alias': 'bars', 'title': 'Bars'}, {'alias':...</td>\n",
       "      <td>4.0</td>\n",
       "      <td>{'latitude': 40.947667, 'longitude': -73.8759205}</td>\n",
       "      <td>[delivery, pickup]</td>\n",
       "      <td>$$</td>\n",
       "      <td>{'address1': '15 Lockwood Ave', 'address2': ''...</td>\n",
       "      <td>+19149694600</td>\n",
       "      <td>(914) 969-4600</td>\n",
       "      <td>370.258213</td>\n",
       "    </tr>\n",
       "    <tr>\n",
       "      <th>3</th>\n",
       "      <td>InC56Q0l9BjdOaCWtD3xAQ</td>\n",
       "      <td>jjr-highridge-fishery-yonkers-2</td>\n",
       "      <td>JJR Highridge Fishery</td>\n",
       "      <td>https://s3-media3.fl.yelpcdn.com/bphoto/fFD0vH...</td>\n",
       "      <td>False</td>\n",
       "      <td>https://www.yelp.com/biz/jjr-highridge-fishery...</td>\n",
       "      <td>41</td>\n",
       "      <td>[{'alias': 'seafood', 'title': 'Seafood'}, {'a...</td>\n",
       "      <td>4.0</td>\n",
       "      <td>{'latitude': 40.961373219417446, 'longitude': ...</td>\n",
       "      <td>[delivery, pickup]</td>\n",
       "      <td>$$</td>\n",
       "      <td>{'address1': '1791 Central Park Ave', 'address...</td>\n",
       "      <td>+19143373775</td>\n",
       "      <td>(914) 337-3775</td>\n",
       "      <td>3376.655022</td>\n",
       "    </tr>\n",
       "    <tr>\n",
       "      <th>4</th>\n",
       "      <td>sDqDQgV4VBIElhjxMplmow</td>\n",
       "      <td>the-bayou-restaurant-mount-vernon</td>\n",
       "      <td>The Bayou Restaurant</td>\n",
       "      <td>https://s3-media3.fl.yelpcdn.com/bphoto/1imehj...</td>\n",
       "      <td>False</td>\n",
       "      <td>https://www.yelp.com/biz/the-bayou-restaurant-...</td>\n",
       "      <td>296</td>\n",
       "      <td>[{'alias': 'cajun', 'title': 'Cajun/Creole'}, ...</td>\n",
       "      <td>3.5</td>\n",
       "      <td>{'latitude': 40.9261252, 'longitude': -73.8357...</td>\n",
       "      <td>[delivery]</td>\n",
       "      <td>$$</td>\n",
       "      <td>{'address1': '580 Gramatan Ave', 'address2': '...</td>\n",
       "      <td>+19146682634</td>\n",
       "      <td>(914) 668-2634</td>\n",
       "      <td>4503.962464</td>\n",
       "    </tr>\n",
       "  </tbody>\n",
       "</table>\n",
       "</div>"
      ],
      "text/plain": [
       "                       id                                 alias  \\\n",
       "0  oC-BU83Ag-vlVBcjlwxUZw              pepes-place-new-rochelle   \n",
       "1  P0KtNoGAK3G_s43V2qzQfA       off-the-hook-of-yonkers-yonkers   \n",
       "2  NZzsPPU0FpkFz9hDmq9ZkQ  lusitania-seafood-restaurant-yonkers   \n",
       "3  InC56Q0l9BjdOaCWtD3xAQ       jjr-highridge-fishery-yonkers-2   \n",
       "4  sDqDQgV4VBIElhjxMplmow     the-bayou-restaurant-mount-vernon   \n",
       "\n",
       "                           name  \\\n",
       "0                  Pepe's Place   \n",
       "1       Off The Hook Of Yonkers   \n",
       "2  Lusitania Seafood Restaurant   \n",
       "3         JJR Highridge Fishery   \n",
       "4          The Bayou Restaurant   \n",
       "\n",
       "                                           image_url  is_closed  \\\n",
       "0  https://s3-media2.fl.yelpcdn.com/bphoto/eCZjwI...      False   \n",
       "1  https://s3-media3.fl.yelpcdn.com/bphoto/euJ8cB...      False   \n",
       "2  https://s3-media3.fl.yelpcdn.com/bphoto/A1-kxI...      False   \n",
       "3  https://s3-media3.fl.yelpcdn.com/bphoto/fFD0vH...      False   \n",
       "4  https://s3-media3.fl.yelpcdn.com/bphoto/1imehj...      False   \n",
       "\n",
       "                                                 url  review_count  \\\n",
       "0  https://www.yelp.com/biz/pepes-place-new-roche...           412   \n",
       "1  https://www.yelp.com/biz/off-the-hook-of-yonke...             5   \n",
       "2  https://www.yelp.com/biz/lusitania-seafood-res...            38   \n",
       "3  https://www.yelp.com/biz/jjr-highridge-fishery...            41   \n",
       "4  https://www.yelp.com/biz/the-bayou-restaurant-...           296   \n",
       "\n",
       "                                          categories  rating  \\\n",
       "0  [{'alias': 'seafood', 'title': 'Seafood'}, {'a...     4.5   \n",
       "1  [{'alias': 'seafood', 'title': 'Seafood'}, {'a...     4.5   \n",
       "2  [{'alias': 'bars', 'title': 'Bars'}, {'alias':...     4.0   \n",
       "3  [{'alias': 'seafood', 'title': 'Seafood'}, {'a...     4.0   \n",
       "4  [{'alias': 'cajun', 'title': 'Cajun/Creole'}, ...     3.5   \n",
       "\n",
       "                                         coordinates        transactions  \\\n",
       "0  {'latitude': 40.9209170900794, 'longitude': -7...  [delivery, pickup]   \n",
       "1     {'latitude': 40.93576, 'longitude': -73.89841}  [delivery, pickup]   \n",
       "2  {'latitude': 40.947667, 'longitude': -73.8759205}  [delivery, pickup]   \n",
       "3  {'latitude': 40.961373219417446, 'longitude': ...  [delivery, pickup]   \n",
       "4  {'latitude': 40.9261252, 'longitude': -73.8357...          [delivery]   \n",
       "\n",
       "  price                                           location         phone  \\\n",
       "0    $$  {'address1': '560 North Ave', 'address2': '', ...  +19146327373   \n",
       "1   NaN  {'address1': '47 North Broadway', 'address2': ...  +19144573371   \n",
       "2    $$  {'address1': '15 Lockwood Ave', 'address2': ''...  +19149694600   \n",
       "3    $$  {'address1': '1791 Central Park Ave', 'address...  +19143373775   \n",
       "4    $$  {'address1': '580 Gramatan Ave', 'address2': '...  +19146682634   \n",
       "\n",
       "    display_phone     distance  \n",
       "0  (914) 632-7373  8348.369289  \n",
       "1  (914) 457-3371  2238.342639  \n",
       "2  (914) 969-4600   370.258213  \n",
       "3  (914) 337-3775  3376.655022  \n",
       "4  (914) 668-2634  4503.962464  "
      ]
     },
     "metadata": {},
     "output_type": "display_data"
    },
    {
     "data": {
      "text/html": [
       "<div>\n",
       "<style scoped>\n",
       "    .dataframe tbody tr th:only-of-type {\n",
       "        vertical-align: middle;\n",
       "    }\n",
       "\n",
       "    .dataframe tbody tr th {\n",
       "        vertical-align: top;\n",
       "    }\n",
       "\n",
       "    .dataframe thead th {\n",
       "        text-align: right;\n",
       "    }\n",
       "</style>\n",
       "<table border=\"1\" class=\"dataframe\">\n",
       "  <thead>\n",
       "    <tr style=\"text-align: right;\">\n",
       "      <th></th>\n",
       "      <th>id</th>\n",
       "      <th>alias</th>\n",
       "      <th>name</th>\n",
       "      <th>image_url</th>\n",
       "      <th>is_closed</th>\n",
       "      <th>url</th>\n",
       "      <th>review_count</th>\n",
       "      <th>categories</th>\n",
       "      <th>rating</th>\n",
       "      <th>coordinates</th>\n",
       "      <th>transactions</th>\n",
       "      <th>price</th>\n",
       "      <th>location</th>\n",
       "      <th>phone</th>\n",
       "      <th>display_phone</th>\n",
       "      <th>distance</th>\n",
       "    </tr>\n",
       "  </thead>\n",
       "  <tbody>\n",
       "    <tr>\n",
       "      <th>967</th>\n",
       "      <td>Cs5-wiJ1F9zgU1LpBKFlLg</td>\n",
       "      <td>the-brick-oven-pizza-dobbs-ferry</td>\n",
       "      <td>The Brick Oven Pizza</td>\n",
       "      <td>https://s3-media4.fl.yelpcdn.com/bphoto/95UiJ1...</td>\n",
       "      <td>False</td>\n",
       "      <td>https://www.yelp.com/biz/the-brick-oven-pizza-...</td>\n",
       "      <td>39</td>\n",
       "      <td>[{'alias': 'pizza', 'title': 'Pizza'}, {'alias...</td>\n",
       "      <td>3.0</td>\n",
       "      <td>{'latitude': 41.016168, 'longitude': -73.874191}</td>\n",
       "      <td>[delivery, pickup]</td>\n",
       "      <td>$$</td>\n",
       "      <td>{'address1': '147 Main St', 'address2': '', 'a...</td>\n",
       "      <td>+19146936259</td>\n",
       "      <td>(914) 693-6259</td>\n",
       "      <td>7385.272058</td>\n",
       "    </tr>\n",
       "    <tr>\n",
       "      <th>968</th>\n",
       "      <td>MKtgdg_YSMGF06OpzBabkA</td>\n",
       "      <td>palmers-crossing-tenafly</td>\n",
       "      <td>Palmers Crossing</td>\n",
       "      <td>https://s3-media2.fl.yelpcdn.com/bphoto/oKSo7c...</td>\n",
       "      <td>False</td>\n",
       "      <td>https://www.yelp.com/biz/palmers-crossing-tena...</td>\n",
       "      <td>39</td>\n",
       "      <td>[{'alias': 'newamerican', 'title': 'American (...</td>\n",
       "      <td>3.0</td>\n",
       "      <td>{'latitude': 40.92221, 'longitude': -73.9649699}</td>\n",
       "      <td>[delivery]</td>\n",
       "      <td>$$</td>\n",
       "      <td>{'address1': '145 Dean Dr', 'address2': '', 'a...</td>\n",
       "      <td>+12015674800</td>\n",
       "      <td>(201) 567-4800</td>\n",
       "      <td>7782.876137</td>\n",
       "    </tr>\n",
       "    <tr>\n",
       "      <th>969</th>\n",
       "      <td>XAS91xoNLi8AcIbdwreQHQ</td>\n",
       "      <td>new-garden-take-out-hartsdale</td>\n",
       "      <td>New Garden take-out</td>\n",
       "      <td>https://s3-media1.fl.yelpcdn.com/bphoto/BuS5IA...</td>\n",
       "      <td>False</td>\n",
       "      <td>https://www.yelp.com/biz/new-garden-take-out-h...</td>\n",
       "      <td>35</td>\n",
       "      <td>[{'alias': 'chinese', 'title': 'Chinese'}]</td>\n",
       "      <td>3.5</td>\n",
       "      <td>{'latitude': 41.0185457020998, 'longitude': -7...</td>\n",
       "      <td>[delivery]</td>\n",
       "      <td>$</td>\n",
       "      <td>{'address1': '17 E Hartsdale Ave', 'address2':...</td>\n",
       "      <td>+19142889788</td>\n",
       "      <td>(914) 288-9788</td>\n",
       "      <td>10255.452352</td>\n",
       "    </tr>\n",
       "    <tr>\n",
       "      <th>970</th>\n",
       "      <td>kN1lAWAFnsqs9jTngYNBZg</td>\n",
       "      <td>well-being-sushi-dumont</td>\n",
       "      <td>Well-Being Sushi</td>\n",
       "      <td>https://s3-media3.fl.yelpcdn.com/bphoto/-jdJr0...</td>\n",
       "      <td>False</td>\n",
       "      <td>https://www.yelp.com/biz/well-being-sushi-dumo...</td>\n",
       "      <td>199</td>\n",
       "      <td>[{'alias': 'sushi', 'title': 'Sushi Bars'}, {'...</td>\n",
       "      <td>4.0</td>\n",
       "      <td>{'latitude': 40.9419908299266, 'longitude': -7...</td>\n",
       "      <td>[delivery]</td>\n",
       "      <td>$$</td>\n",
       "      <td>{'address1': '10 Knickerbocker Rd', 'address2'...</td>\n",
       "      <td>+12013855300</td>\n",
       "      <td>(201) 385-5300</td>\n",
       "      <td>8247.690317</td>\n",
       "    </tr>\n",
       "    <tr>\n",
       "      <th>971</th>\n",
       "      <td>FdyvHLxlrjpYM0GSJxuQrg</td>\n",
       "      <td>tenafly-classic-diner-tenafly-3</td>\n",
       "      <td>Tenafly Classic Diner</td>\n",
       "      <td>https://s3-media2.fl.yelpcdn.com/bphoto/q5-X09...</td>\n",
       "      <td>False</td>\n",
       "      <td>https://www.yelp.com/biz/tenafly-classic-diner...</td>\n",
       "      <td>269</td>\n",
       "      <td>[{'alias': 'diners', 'title': 'Diners'}, {'ali...</td>\n",
       "      <td>3.0</td>\n",
       "      <td>{'latitude': 40.925537, 'longitude': -73.964866}</td>\n",
       "      <td>[delivery, pickup]</td>\n",
       "      <td>$$</td>\n",
       "      <td>{'address1': '16 W Railroad Ave', 'address2': ...</td>\n",
       "      <td>+12015675522</td>\n",
       "      <td>(201) 567-5522</td>\n",
       "      <td>7679.247834</td>\n",
       "    </tr>\n",
       "  </tbody>\n",
       "</table>\n",
       "</div>"
      ],
      "text/plain": [
       "                         id                             alias  \\\n",
       "967  Cs5-wiJ1F9zgU1LpBKFlLg  the-brick-oven-pizza-dobbs-ferry   \n",
       "968  MKtgdg_YSMGF06OpzBabkA          palmers-crossing-tenafly   \n",
       "969  XAS91xoNLi8AcIbdwreQHQ     new-garden-take-out-hartsdale   \n",
       "970  kN1lAWAFnsqs9jTngYNBZg           well-being-sushi-dumont   \n",
       "971  FdyvHLxlrjpYM0GSJxuQrg   tenafly-classic-diner-tenafly-3   \n",
       "\n",
       "                      name                                          image_url  \\\n",
       "967   The Brick Oven Pizza  https://s3-media4.fl.yelpcdn.com/bphoto/95UiJ1...   \n",
       "968       Palmers Crossing  https://s3-media2.fl.yelpcdn.com/bphoto/oKSo7c...   \n",
       "969    New Garden take-out  https://s3-media1.fl.yelpcdn.com/bphoto/BuS5IA...   \n",
       "970       Well-Being Sushi  https://s3-media3.fl.yelpcdn.com/bphoto/-jdJr0...   \n",
       "971  Tenafly Classic Diner  https://s3-media2.fl.yelpcdn.com/bphoto/q5-X09...   \n",
       "\n",
       "     is_closed                                                url  \\\n",
       "967      False  https://www.yelp.com/biz/the-brick-oven-pizza-...   \n",
       "968      False  https://www.yelp.com/biz/palmers-crossing-tena...   \n",
       "969      False  https://www.yelp.com/biz/new-garden-take-out-h...   \n",
       "970      False  https://www.yelp.com/biz/well-being-sushi-dumo...   \n",
       "971      False  https://www.yelp.com/biz/tenafly-classic-diner...   \n",
       "\n",
       "     review_count                                         categories  rating  \\\n",
       "967            39  [{'alias': 'pizza', 'title': 'Pizza'}, {'alias...     3.0   \n",
       "968            39  [{'alias': 'newamerican', 'title': 'American (...     3.0   \n",
       "969            35         [{'alias': 'chinese', 'title': 'Chinese'}]     3.5   \n",
       "970           199  [{'alias': 'sushi', 'title': 'Sushi Bars'}, {'...     4.0   \n",
       "971           269  [{'alias': 'diners', 'title': 'Diners'}, {'ali...     3.0   \n",
       "\n",
       "                                           coordinates        transactions  \\\n",
       "967   {'latitude': 41.016168, 'longitude': -73.874191}  [delivery, pickup]   \n",
       "968   {'latitude': 40.92221, 'longitude': -73.9649699}          [delivery]   \n",
       "969  {'latitude': 41.0185457020998, 'longitude': -7...          [delivery]   \n",
       "970  {'latitude': 40.9419908299266, 'longitude': -7...          [delivery]   \n",
       "971   {'latitude': 40.925537, 'longitude': -73.964866}  [delivery, pickup]   \n",
       "\n",
       "    price                                           location         phone  \\\n",
       "967    $$  {'address1': '147 Main St', 'address2': '', 'a...  +19146936259   \n",
       "968    $$  {'address1': '145 Dean Dr', 'address2': '', 'a...  +12015674800   \n",
       "969     $  {'address1': '17 E Hartsdale Ave', 'address2':...  +19142889788   \n",
       "970    $$  {'address1': '10 Knickerbocker Rd', 'address2'...  +12013855300   \n",
       "971    $$  {'address1': '16 W Railroad Ave', 'address2': ...  +12015675522   \n",
       "\n",
       "      display_phone      distance  \n",
       "967  (914) 693-6259   7385.272058  \n",
       "968  (201) 567-4800   7782.876137  \n",
       "969  (914) 288-9788  10255.452352  \n",
       "970  (201) 385-5300   8247.690317  \n",
       "971  (201) 567-5522   7679.247834  "
      ]
     },
     "metadata": {},
     "output_type": "display_data"
    }
   ],
   "source": [
    "# load final results\n",
    "final_df = pd.read_json(JSON_FILE)\n",
    "display(final_df.head(), final_df.tail())"
   ]
  },
  {
   "cell_type": "markdown",
   "id": "d43fbb0e",
   "metadata": {},
   "source": [
    "## Check for duplicates"
   ]
  },
  {
   "cell_type": "code",
   "execution_count": 53,
   "id": "2346f009",
   "metadata": {},
   "outputs": [
    {
     "data": {
      "text/plain": [
       "0"
      ]
     },
     "execution_count": 53,
     "metadata": {},
     "output_type": "execute_result"
    }
   ],
   "source": [
    "# check for duplicate IDs\n",
    "final_df.duplicated(subset='id').sum()"
   ]
  },
  {
   "cell_type": "markdown",
   "id": "71462089",
   "metadata": {},
   "source": [
    "## Save the final DataFrame to a .csv"
   ]
  },
  {
   "cell_type": "code",
   "execution_count": 55,
   "id": "279a6c1b",
   "metadata": {},
   "outputs": [],
   "source": [
    "# save the final results to a compressed csv\n",
    "final_df.to_csv('Core Assignments/final_results_shrimp.csv',index=False)"
   ]
  },
  {
   "cell_type": "code",
   "execution_count": null,
   "id": "ba8422e1",
   "metadata": {},
   "outputs": [],
   "source": []
  }
 ],
 "metadata": {
  "kernelspec": {
   "display_name": "Python (dojo-env)",
   "language": "python",
   "name": "dojo-env"
  },
  "language_info": {
   "codemirror_mode": {
    "name": "ipython",
    "version": 3
   },
   "file_extension": ".py",
   "mimetype": "text/x-python",
   "name": "python",
   "nbconvert_exporter": "python",
   "pygments_lexer": "ipython3",
   "version": "3.9.7"
  }
 },
 "nbformat": 4,
 "nbformat_minor": 5
}
